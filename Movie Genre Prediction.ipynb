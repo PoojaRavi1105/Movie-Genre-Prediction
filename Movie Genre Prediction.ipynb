{
 "cells": [
  {
   "cell_type": "markdown",
   "metadata": {},
   "source": [
    "When running in VM, make sure Java 1.8 is running. To change the java version, use the following:\n",
    "\n",
    "sudo update-alternatives --config java\n",
    "\n",
    "and choose java -version 1.8\n",
    "\n",
    "Also, make sure you un-comment the following lines in order to run pyspark on VM"
   ]
  },
  {
   "cell_type": "markdown",
   "metadata": {},
   "source": [
    "# Data Preparation\n"
   ]
  },
  {
   "cell_type": "code",
   "execution_count": 1,
   "metadata": {},
   "outputs": [],
   "source": [
    "#import findspark\n",
    "#findspark.init(\"/home/cse587/spark-2.4.0-bin-hadoop2.7\")"
   ]
  },
  {
   "cell_type": "code",
   "execution_count": 1,
   "metadata": {},
   "outputs": [],
   "source": [
    "import pyspark\n",
    "from pyspark.sql.types import *\n",
    "import pandas as pd\n",
    "import ast\n",
    "from pyspark.sql import SparkSession\n",
    "spark = SparkSession.builder.master(\"local[*]\").getOrCreate()"
   ]
  },
  {
   "cell_type": "code",
   "execution_count": 2,
   "metadata": {},
   "outputs": [],
   "source": [
    "pdDf = pd.read_csv(\"train.csv\")\n",
    "pd_test = pd.read_csv(\"test.csv\")"
   ]
  },
  {
   "cell_type": "code",
   "execution_count": 3,
   "metadata": {},
   "outputs": [],
   "source": [
    "pdDf['genre'] = pdDf['genre'].apply(ast.literal_eval)"
   ]
  },
  {
   "cell_type": "code",
   "execution_count": 4,
   "metadata": {},
   "outputs": [],
   "source": [
    "mySchema = StructType([ StructField(\"movie_id\", StringType(), True)\\\n",
    "                       ,StructField(\"movie_name\", StringType(), True)\\\n",
    "                       ,StructField(\"plot\", StringType(), True)\\\n",
    "                       ,StructField(\"genre\", ArrayType(StringType(),True), True)])"
   ]
  },
  {
   "cell_type": "code",
   "execution_count": 5,
   "metadata": {},
   "outputs": [],
   "source": [
    "data = spark.createDataFrame(pdDf, schema=mySchema)"
   ]
  },
  {
   "cell_type": "code",
   "execution_count": 6,
   "metadata": {},
   "outputs": [],
   "source": [
    "test_mySchema = StructType([ StructField(\"movie_id\", StringType(), True)\\\n",
    "                       ,StructField(\"movie_name\", StringType(), True)\\\n",
    "                       ,StructField(\"plot\", StringType(), True)])"
   ]
  },
  {
   "cell_type": "code",
   "execution_count": 7,
   "metadata": {},
   "outputs": [],
   "source": [
    "test_csv_data = spark.createDataFrame(pd_test, schema=test_mySchema)"
   ]
  },
  {
   "cell_type": "code",
   "execution_count": 8,
   "metadata": {},
   "outputs": [],
   "source": [
    "from pyspark.ml.feature import CountVectorizer\n",
    "from pyspark.sql.functions import udf, col\n",
    "\n",
    "\n",
    "cv = CountVectorizer(inputCol='genre', outputCol='c1', binary=True)\n",
    "\n",
    "model = cv.fit(data)\n",
    "\n",
    "vocabulary = model.vocabulary"
   ]
  },
  {
   "cell_type": "code",
   "execution_count": 9,
   "metadata": {},
   "outputs": [
    {
     "data": {
      "text/plain": [
       "['Drama',\n",
       " 'Comedy',\n",
       " 'Romance Film',\n",
       " 'Thriller',\n",
       " 'Action',\n",
       " 'World cinema',\n",
       " 'Crime Fiction',\n",
       " 'Horror',\n",
       " 'Black-and-white',\n",
       " 'Indie',\n",
       " 'Action/Adventure',\n",
       " 'Family Film',\n",
       " 'Adventure',\n",
       " 'Short Film',\n",
       " 'Romantic drama',\n",
       " 'Animation',\n",
       " 'Musical',\n",
       " 'Science Fiction',\n",
       " 'Romantic comedy',\n",
       " 'Mystery']"
      ]
     },
     "execution_count": 9,
     "metadata": {},
     "output_type": "execute_result"
    }
   ],
   "source": [
    "vocabulary"
   ]
  },
  {
   "cell_type": "code",
   "execution_count": 10,
   "metadata": {},
   "outputs": [],
   "source": [
    "udf_to_array = udf(lambda v: v.toArray().tolist(), 'array<double>')\n",
    "prep_data = model.transform(data)\n",
    "\n",
    "prep_data = prep_data.withColumn('c2', udf_to_array('c1')) \\\n",
    "   .select('*', *[ col('c2')[i].alias(vocabulary[i]) for i in range(len(vocabulary))])"
   ]
  },
  {
   "cell_type": "code",
   "execution_count": 11,
   "metadata": {},
   "outputs": [
    {
     "name": "stdout",
     "output_type": "stream",
     "text": [
      "+--------+----------------+--------------------+--------------------+--------------------+--------------------+-----+------+------------+--------+------+------------+-------------+------+---------------+-----+----------------+-----------+---------+----------+--------------+---------+-------+---------------+---------------+-------+\n",
      "|movie_id|      movie_name|                plot|               genre|                  c1|                  c2|Drama|Comedy|Romance Film|Thriller|Action|World cinema|Crime Fiction|Horror|Black-and-white|Indie|Action/Adventure|Family Film|Adventure|Short Film|Romantic drama|Animation|Musical|Science Fiction|Romantic comedy|Mystery|\n",
      "+--------+----------------+--------------------+--------------------+--------------------+--------------------+-----+------+------------+--------+------+------------+-------------+------+---------------+-----+----------------+-----------+---------+----------+--------------+---------+-------+---------------+---------------+-------+\n",
      "|23890098|      Taxi Blues|Shlykov, a hard-w...|[World cinema, Dr...|(20,[0,5],[1.0,1.0])|[1.0, 0.0, 0.0, 0...|  1.0|   0.0|         0.0|     0.0|   0.0|         1.0|          0.0|   0.0|            0.0|  0.0|             0.0|        0.0|      0.0|       0.0|           0.0|      0.0|    0.0|            0.0|            0.0|    0.0|\n",
      "|31186339|The Hunger Games|The nation of Pan...|[Action/Adventure...|(20,[0,4,10,17],[...|[1.0, 0.0, 0.0, 0...|  1.0|   0.0|         0.0|     0.0|   1.0|         0.0|          0.0|   0.0|            0.0|  0.0|             1.0|        0.0|      0.0|       0.0|           0.0|      0.0|    0.0|            1.0|            0.0|    0.0|\n",
      "+--------+----------------+--------------------+--------------------+--------------------+--------------------+-----+------+------------+--------+------+------------+-------------+------+---------------+-----+----------------+-----------+---------+----------+--------------+---------+-------+---------------+---------------+-------+\n",
      "only showing top 2 rows\n",
      "\n"
     ]
    }
   ],
   "source": [
    "prep_data.show(2)"
   ]
  },
  {
   "cell_type": "code",
   "execution_count": 12,
   "metadata": {},
   "outputs": [],
   "source": [
    "from pyspark.ml.feature import RegexTokenizer, StopWordsRemover\n",
    "\n",
    "# regular expression tokenizer\n",
    "regexTokenizer = RegexTokenizer(inputCol=\"plot\", outputCol=\"words\", pattern=\"\\\\W\")\n",
    "# stop words\n",
    "stopwords = StopWordsRemover.loadDefaultStopWords(\"english\")\n",
    "stopwordsRemover = StopWordsRemover(inputCol=\"words\", outputCol=\"filtered\").setStopWords(stopwords)"
   ]
  },
  {
   "cell_type": "code",
   "execution_count": 13,
   "metadata": {},
   "outputs": [
    {
     "name": "stdout",
     "output_type": "stream",
     "text": [
      "+--------+----------------+--------------------+--------------------+--------------------+--------------------+-----+------+------------+--------+------+------------+-------------+------+---------------+-----+----------------+-----------+---------+----------+--------------+---------+-------+---------------+---------------+-------+--------------------+--------------------+\n",
      "|movie_id|      movie_name|                plot|               genre|                  c1|                  c2|Drama|Comedy|Romance Film|Thriller|Action|World cinema|Crime Fiction|Horror|Black-and-white|Indie|Action/Adventure|Family Film|Adventure|Short Film|Romantic drama|Animation|Musical|Science Fiction|Romantic comedy|Mystery|               words|            filtered|\n",
      "+--------+----------------+--------------------+--------------------+--------------------+--------------------+-----+------+------------+--------+------+------------+-------------+------+---------------+-----+----------------+-----------+---------+----------+--------------+---------+-------+---------------+---------------+-------+--------------------+--------------------+\n",
      "|23890098|      Taxi Blues|Shlykov, a hard-w...|[World cinema, Dr...|(20,[0,5],[1.0,1.0])|[1.0, 0.0, 0.0, 0...|  1.0|   0.0|         0.0|     0.0|   0.0|         1.0|          0.0|   0.0|            0.0|  0.0|             0.0|        0.0|      0.0|       0.0|           0.0|      0.0|    0.0|            0.0|            0.0|    0.0|[shlykov, a, hard...|[shlykov, hard, w...|\n",
      "|31186339|The Hunger Games|The nation of Pan...|[Action/Adventure...|(20,[0,4,10,17],[...|[1.0, 0.0, 0.0, 0...|  1.0|   0.0|         0.0|     0.0|   1.0|         0.0|          0.0|   0.0|            0.0|  0.0|             1.0|        0.0|      0.0|       0.0|           0.0|      0.0|    0.0|            1.0|            0.0|    0.0|[the, nation, of,...|[nation, panem, c...|\n",
      "+--------+----------------+--------------------+--------------------+--------------------+--------------------+-----+------+------------+--------+------+------------+-------------+------+---------------+-----+----------------+-----------+---------+----------+--------------+---------+-------+---------------+---------------+-------+--------------------+--------------------+\n",
      "only showing top 2 rows\n",
      "\n"
     ]
    }
   ],
   "source": [
    "from pyspark.ml import Pipeline\n",
    "\n",
    "pipeline = Pipeline(stages=[regexTokenizer, stopwordsRemover])\n",
    "# Fit the pipeline to training documents.\n",
    "pipelineFit = pipeline.fit(prep_data)\n",
    "dataset = pipelineFit.transform(prep_data)\n",
    "dataset.show(2)"
   ]
  },
  {
   "cell_type": "code",
   "execution_count": 14,
   "metadata": {},
   "outputs": [
    {
     "name": "stdout",
     "output_type": "stream",
     "text": [
      "+--------+--------------------+--------------------+--------------------+--------------------+\n",
      "|movie_id|          movie_name|                plot|               words|            filtered|\n",
      "+--------+--------------------+--------------------+--------------------+--------------------+\n",
      "| 1335380|              Exodus|The film is based...|[the, film, is, b...|[film, based, eve...|\n",
      "|29062594|A la salida nos v...|A group of teenag...|[a, group, of, te...|[group, teenagers...|\n",
      "+--------+--------------------+--------------------+--------------------+--------------------+\n",
      "only showing top 2 rows\n",
      "\n"
     ]
    }
   ],
   "source": [
    "test_dataset = pipelineFit.transform(test_csv_data)\n",
    "test_dataset.show(2)"
   ]
  },
  {
   "cell_type": "markdown",
   "metadata": {},
   "source": [
    "# Part 1: Basic Model"
   ]
  },
  {
   "cell_type": "code",
   "execution_count": 15,
   "metadata": {},
   "outputs": [],
   "source": [
    "countVectors = CountVectorizer(inputCol=\"filtered\",outputCol=\"features\",vocabSize=100000,minDF=5)"
   ]
  },
  {
   "cell_type": "code",
   "execution_count": 16,
   "metadata": {},
   "outputs": [],
   "source": [
    "pipeline_1 = Pipeline(stages=[countVectors])\n",
    "pipelineFit_1 = pipeline_1.fit(dataset)"
   ]
  },
  {
   "cell_type": "code",
   "execution_count": 17,
   "metadata": {},
   "outputs": [
    {
     "name": "stdout",
     "output_type": "stream",
     "text": [
      "+--------+--------------------+--------------------+--------------------+--------------------+--------------------+\n",
      "|movie_id|          movie_name|                plot|               words|            filtered|            features|\n",
      "+--------+--------------------+--------------------+--------------------+--------------------+--------------------+\n",
      "| 1335380|              Exodus|The film is based...|[the, film, is, b...|[film, based, eve...|(33975,[0,3,4,7,8...|\n",
      "|29062594|A la salida nos v...|A group of teenag...|[a, group, of, te...|[group, teenagers...|(33975,[7,8,56,71...|\n",
      "+--------+--------------------+--------------------+--------------------+--------------------+--------------------+\n",
      "only showing top 2 rows\n",
      "\n"
     ]
    }
   ],
   "source": [
    "cv_test_data = pipelineFit_1.transform(test_dataset)\n",
    "cv_test_data.show(2)"
   ]
  },
  {
   "cell_type": "code",
   "execution_count": 18,
   "metadata": {},
   "outputs": [],
   "source": [
    "from pyspark.ml.classification import LogisticRegressionModel\n",
    "\n",
    "drama_model = LogisticRegressionModel.load(\"./part1_lr_models/drama/\")"
   ]
  },
  {
   "cell_type": "code",
   "execution_count": 19,
   "metadata": {},
   "outputs": [
    {
     "name": "stdout",
     "output_type": "stream",
     "text": [
      "+--------+-------+\n",
      "|movie_id|P drama|\n",
      "+--------+-------+\n",
      "|12378414|    0.0|\n",
      "|13005847|    1.0|\n",
      "+--------+-------+\n",
      "only showing top 2 rows\n",
      "\n"
     ]
    }
   ],
   "source": [
    "pred_test_drama = drama_model.transform(cv_test_data)\n",
    "final_pred_test_drama = pred_test_drama.select(col('movie_id').alias('m_id'),col('prediction').alias('P drama'))\n",
    "test_df = (cv_test_data.join(final_pred_test_drama,col(\"movie_id\") == col(\"m_id\"),\"leftouter\"))\n",
    "\n",
    "test_df_1 = test_df.select(\"movie_id\",\"P drama\")\n",
    "test_df_1.show(2)"
   ]
  },
  {
   "cell_type": "code",
   "execution_count": 20,
   "metadata": {},
   "outputs": [
    {
     "name": "stdout",
     "output_type": "stream",
     "text": [
      "+--------+-------+--------+\n",
      "|movie_id|P drama|P comedy|\n",
      "+--------+-------+--------+\n",
      "|12378414|    0.0|     0.0|\n",
      "|13005847|    1.0|     0.0|\n",
      "+--------+-------+--------+\n",
      "only showing top 2 rows\n",
      "\n"
     ]
    }
   ],
   "source": [
    "comedy_model = LogisticRegressionModel.load(\"./part1_lr_models/comedy/\")\n",
    "\n",
    "pred_test_comedy = comedy_model.transform(cv_test_data)\n",
    "final_pred_test_comedy = pred_test_comedy.select(col('movie_id').alias('m_id'),col('prediction').alias('P comedy'))\n",
    "test_df = (test_df_1.join(final_pred_test_comedy,col(\"movie_id\") == col(\"m_id\"),\"leftouter\"))\n",
    "\n",
    "test_df_1 = test_df.select(\"movie_id\",\"P drama\",\"P comedy\")\n",
    "test_df_1.show(2)"
   ]
  },
  {
   "cell_type": "code",
   "execution_count": 21,
   "metadata": {},
   "outputs": [],
   "source": [
    "romance_film_model = LogisticRegressionModel.load(\"./part1_lr_models/romance/\")\n",
    "\n",
    "pred_test_romance = romance_film_model.transform(cv_test_data)\n",
    "final_pred_test_romance = pred_test_romance.select(col('movie_id').alias('m_id'),col('prediction').alias('P RF'))\n",
    "test_df = (test_df_1.join(final_pred_test_romance,col(\"movie_id\") == col(\"m_id\"),\"leftouter\"))\n",
    "\n",
    "test_df_1 = test_df.select(\"movie_id\",\"P drama\",\"P Comedy\",\"P RF\")\n",
    "\n",
    "thriller_model = LogisticRegressionModel.load(\"./part1_lr_models/thriller/\")\n",
    "\n",
    "pred_test_thriller = thriller_model.transform(cv_test_data)\n",
    "final_pred_test_thriller = pred_test_thriller.select(col('movie_id').alias('m_id'),col('prediction').alias('P Thriller'))\n",
    "test_df = (test_df_1.join(final_pred_test_thriller,col(\"movie_id\") == col(\"m_id\"),\"leftouter\"))\n",
    "\n",
    "test_df_1 = test_df.select(\"movie_id\",\"P drama\",\"P Comedy\",\"P RF\",\"P Thriller\")\n",
    "\n",
    "action_model = LogisticRegressionModel.load(\"./part1_lr_models/action/\")\n",
    "\n",
    "pred_test_action = action_model.transform(cv_test_data)\n",
    "final_pred_test_action = pred_test_action.select(col('movie_id').alias('m_id'),col('prediction').alias('P Action'))\n",
    "test_df = (test_df_1.join(final_pred_test_action,col(\"movie_id\") == col(\"m_id\"),\"leftouter\"))\n",
    "\n",
    "test_df_1 = test_df.select(\"movie_id\",\"P drama\",\"P Comedy\",\"P RF\",\"P Thriller\",\"P Action\")\n",
    "\n",
    "wc_model = LogisticRegressionModel.load(\"./part1_lr_models/world_cinema/\")\n",
    "\n",
    "pred_test_wc = wc_model.transform(cv_test_data)\n",
    "final_pred_test_wc = pred_test_wc.select(col('movie_id').alias('m_id'),col('prediction').alias('P WC'))\n",
    "test_df = (test_df_1.join(final_pred_test_wc,col(\"movie_id\") == col(\"m_id\"),\"leftouter\"))\n",
    "\n",
    "test_df_1 = test_df.select(\"movie_id\",\"P drama\",\"P Comedy\",\"P RF\",\"P Thriller\",\"P Action\",\"P WC\")\n",
    "\n",
    "cf_model = LogisticRegressionModel.load(\"./part1_lr_models/crime_fiction/\")\n",
    "\n",
    "\n",
    "pred_test_cf = cf_model.transform(cv_test_data)\n",
    "final_pred_test_cf = pred_test_cf.select(col('movie_id').alias('m_id'),col('prediction').alias('P CF'))\n",
    "test_df = (test_df_1.join(final_pred_test_cf,col(\"movie_id\") == col(\"m_id\"),\"leftouter\"))\n",
    "\n",
    "test_df_1 = test_df.select(\"movie_id\",\"P drama\",\"P Comedy\",\"P RF\",\"P Thriller\",\"P Action\",\"P WC\",\"P CF\")\n",
    "\n",
    "horror_model = LogisticRegressionModel.load(\"./part1_lr_models/horror/\")\n",
    "\n",
    "\n",
    "pred_test_horror = horror_model.transform(cv_test_data)\n",
    "final_pred_test_horror = pred_test_horror.select(col('movie_id').alias('m_id'),col('prediction').alias('P Horror'))\n",
    "test_df = (test_df_1.join(final_pred_test_horror,col(\"movie_id\") == col(\"m_id\"),\"leftouter\"))\n",
    "\n",
    "test_df_1 = test_df.select(\"movie_id\",\"P drama\",\"P Comedy\",\"P RF\",\"P Thriller\",\"P Action\",\"P WC\",\"P CF\",\"P Horror\")\n",
    "\n",
    "bw_model = LogisticRegressionModel.load(\"./part1_lr_models/black_white/\")\n",
    "\n",
    "\n",
    "pred_test_bw = bw_model.transform(cv_test_data)\n",
    "final_pred_test_bw = pred_test_bw.select(col('movie_id').alias('m_id'),col('prediction').alias('P BW'))\n",
    "test_df = (test_df_1.join(final_pred_test_bw,col(\"movie_id\") == col(\"m_id\"),\"leftouter\"))\n",
    "\n",
    "test_df_1 = test_df.select(\"movie_id\",\"P drama\",\"P Comedy\",\"P RF\",\"P Thriller\",\"P Action\",\"P WC\",\"P CF\",\"P Horror\",\"P BW\")\n",
    "\n",
    "indie_model = LogisticRegressionModel.load(\"./part1_lr_models/indie/\")\n",
    "\n",
    "\n",
    "pred_test_indie = indie_model.transform(cv_test_data)\n",
    "final_pred_test_indie = pred_test_indie.select(col('movie_id').alias('m_id'),col('prediction').alias('P Indie'))\n",
    "test_df = (test_df_1.join(final_pred_test_indie,col(\"movie_id\") == col(\"m_id\"),\"leftouter\"))\n",
    "\n",
    "test_df_1 = test_df.select(\"movie_id\",\"P drama\",\"P Comedy\",\"P RF\",\"P Thriller\",\"P Action\",\"P WC\",\"P CF\",\"P Horror\",\"P BW\",\"P Indie\")\n",
    "\n",
    "aa_model = LogisticRegressionModel.load(\"./part1_lr_models/action_adventure/\")\n",
    "\n",
    "\n",
    "pred_test_aa = aa_model.transform(cv_test_data)\n",
    "final_pred_test_aa = pred_test_aa.select(col('movie_id').alias('m_id'),col('prediction').alias('P AA'))\n",
    "test_df = (test_df_1.join(final_pred_test_aa,col(\"movie_id\") == col(\"m_id\"),\"leftouter\"))\n",
    "\n",
    "test_df_1 = test_df.select(\"movie_id\",\"P drama\",\"P Comedy\",\"P RF\",\"P Thriller\",\"P Action\",\"P WC\",\"P CF\",\"P Horror\",\"P BW\",\"P Indie\",\"P AA\")\n",
    "\n",
    "a_model = LogisticRegressionModel.load(\"./part1_lr_models/adventure/\")\n",
    "\n",
    "\n",
    "pred_test_adv = a_model.transform(cv_test_data)\n",
    "final_pred_test_adv = pred_test_adv.select(col('movie_id').alias('m_id'),col('prediction').alias('P Adv'))\n",
    "test_df = (test_df_1.join(final_pred_test_adv,col(\"movie_id\") == col(\"m_id\"),\"leftouter\"))\n",
    "\n",
    "test_df_1 = test_df.select(\"movie_id\",\"P drama\",\"P Comedy\",\"P RF\",\"P Thriller\",\"P Action\",\"P WC\",\"P CF\",\"P Horror\",\"P BW\",\"P Indie\",\"P AA\",\"P Adv\")\n",
    "\n",
    "ff_model = LogisticRegressionModel.load(\"./part1_lr_models/family/\")\n",
    "\n",
    "\n",
    "pred_test_ff = ff_model.transform(cv_test_data)\n",
    "final_pred_test_ff = pred_test_ff.select(col('movie_id').alias('m_id'),col('prediction').alias('P FF'))\n",
    "test_df = (test_df_1.join(final_pred_test_ff,col(\"movie_id\") == col(\"m_id\"),\"leftouter\"))\n",
    "\n",
    "test_df_1 = test_df.select(\"movie_id\",\"P drama\",\"P Comedy\",\"P RF\",\"P Thriller\",\"P Action\",\"P WC\",\"P CF\",\"P Horror\",\"P BW\",\"P Indie\",\"P AA\",\"P Adv\",\"P FF\")\n",
    "\n",
    "sf_model = LogisticRegressionModel.load(\"./part1_lr_models/short_film/\")\n",
    "\n",
    "\n",
    "pred_test_sf = sf_model.transform(cv_test_data)\n",
    "final_pred_test_sf = pred_test_sf.select(col('movie_id').alias('m_id'),col('prediction').alias('P SF'))\n",
    "test_df = (test_df_1.join(final_pred_test_sf,col(\"movie_id\") == col(\"m_id\"),\"leftouter\"))\n",
    "\n",
    "test_df_1 = test_df.select(\"movie_id\",\"P drama\",\"P Comedy\",\"P RF\",\"P Thriller\",\"P Action\",\"P WC\",\"P CF\",\"P Horror\",\"P BW\",\"P Indie\",\"P AA\",\"P Adv\",\"P FF\",\"P SF\")\n",
    "\n",
    "\n",
    "rd_model = LogisticRegressionModel.load(\"./part1_lr_models/rom_drama/\")\n",
    "\n",
    "pred_test_rd = rd_model.transform(cv_test_data)\n",
    "final_pred_test_rd = pred_test_rd.select(col('movie_id').alias('m_id'),col('prediction').alias('P RD'))\n",
    "test_df = (test_df_1.join(final_pred_test_rd,col(\"movie_id\") == col(\"m_id\"),\"leftouter\"))\n",
    "\n",
    "test_df_1 = test_df.select(\"movie_id\",\"P drama\",\"P Comedy\",\"P RF\",\"P Thriller\",\"P Action\",\"P WC\",\"P CF\",\"P Horror\",\"P BW\",\"P Indie\",\"P AA\",\"P Adv\",\"P FF\",\"P SF\", \"P RD\")\n",
    "\n",
    "\n",
    "ani_model = LogisticRegressionModel.load(\"./part1_lr_models/animation/\")\n",
    "\n",
    "pred_test_ani = ani_model.transform(cv_test_data)\n",
    "final_pred_test_ani = pred_test_ani.select(col('movie_id').alias('m_id'),col('prediction').alias('P Ani'))\n",
    "test_df = (test_df_1.join(final_pred_test_ani,col(\"movie_id\") == col(\"m_id\"),\"leftouter\"))\n",
    "\n",
    "test_df_1 = test_df.select(\"movie_id\",\"P drama\",\"P Comedy\",\"P RF\",\"P Thriller\",\"P Action\",\"P WC\",\"P CF\",\"P Horror\",\"P BW\",\"P Indie\",\"P AA\",\"P Adv\",\"P FF\",\"P SF\", \"P RD\", \"P Ani\")\n",
    "\n",
    "\n",
    "mus_model = LogisticRegressionModel.load(\"./part1_lr_models/musical/\")\n",
    "\n",
    "pred_test_mus = mus_model.transform(cv_test_data)\n",
    "final_pred_test_mus = pred_test_mus.select(col('movie_id').alias('m_id'),col('prediction').alias('P Mus'))\n",
    "test_df = (test_df_1.join(final_pred_test_mus,col(\"movie_id\") == col(\"m_id\"),\"leftouter\"))\n",
    "\n",
    "test_df_1 = test_df.select(\"movie_id\",\"P drama\",\"P Comedy\",\"P RF\",\"P Thriller\",\"P Action\",\"P WC\",\"P CF\",\"P Horror\",\"P BW\",\"P Indie\",\"P AA\",\"P Adv\",\"P FF\",\"P SF\", \"P RD\", \"P Ani\", \"P Mus\")\n",
    "\n",
    "\n",
    "scf_model = LogisticRegressionModel.load(\"./part1_lr_models/science_fiction/\")\n",
    "\n",
    "pred_test_scf = scf_model.transform(cv_test_data)\n",
    "final_pred_test_scf = pred_test_scf.select(col('movie_id').alias('m_id'),col('prediction').alias('P SciFi'))\n",
    "test_df = (test_df_1.join(final_pred_test_scf,col(\"movie_id\") == col(\"m_id\"),\"leftouter\"))\n",
    "\n",
    "test_df_1 = test_df.select(\"movie_id\",\"P drama\",\"P Comedy\",\"P RF\",\"P Thriller\",\"P Action\",\"P WC\",\"P CF\",\"P Horror\",\"P BW\",\"P Indie\",\"P AA\",\"P Adv\",\"P FF\",\"P SF\", \"P RD\", \"P Ani\", \"P Mus\", \"P SciFi\")\n",
    "\n",
    "\n",
    "m_model = LogisticRegressionModel.load(\"./part1_lr_models/mystery/\")\n",
    "\n",
    "pred_test_mys = m_model.transform(cv_test_data)\n",
    "final_pred_test_mys = pred_test_mys.select(col('movie_id').alias('m_id'),col('prediction').alias('P Mys'))\n",
    "test_df = (test_df_1.join(final_pred_test_mys,col(\"movie_id\") == col(\"m_id\"),\"leftouter\"))\n",
    "\n",
    "test_df_1 = test_df.select(\"movie_id\",\"P drama\",\"P Comedy\",\"P RF\",\"P Thriller\",\"P Action\",\"P WC\",\"P CF\",\"P Horror\",\"P BW\",\"P Indie\",\"P AA\",\"P Adv\",\"P FF\",\"P SF\", \"P RD\", \"P Ani\", \"P Mus\", \"P SciFi\", \"P Mys\")\n",
    "\n",
    "\n",
    "rc_model = LogisticRegressionModel.load(\"./part1_lr_models/rom_com/\")\n",
    "\n",
    "pred_test_rc = rc_model.transform(cv_test_data)\n",
    "final_pred_test_rc = pred_test_rc.select(col('movie_id').alias('m_id'),col('prediction').alias('P RC'))\n",
    "test_df = (test_df_1.join(final_pred_test_rc,col(\"movie_id\") == col(\"m_id\"),\"leftouter\"))\n",
    "\n",
    "test_df_1 = test_df.select(\"movie_id\",\"P drama\",\"P Comedy\",\"P RF\",\"P Thriller\",\"P Action\",\"P WC\",\"P CF\",\"P Horror\",\"P BW\",\"P Indie\",\"P AA\",\"P Adv\",\"P FF\",\"P SF\", \"P RD\", \"P Ani\", \"P Mus\", \"P SciFi\", \"P Mys\", \"P RC\")"
   ]
  },
  {
   "cell_type": "code",
   "execution_count": 22,
   "metadata": {},
   "outputs": [
    {
     "name": "stdout",
     "output_type": "stream",
     "text": [
      "+--------+-------+--------+----+----------+--------+----+----+--------+----+-------+----+-----+----+----+----+-----+-----+-------+-----+----+\n",
      "|movie_id|P drama|P Comedy|P RF|P Thriller|P Action|P WC|P CF|P Horror|P BW|P Indie|P AA|P Adv|P FF|P SF|P RD|P Ani|P Mus|P SciFi|P Mys|P RC|\n",
      "+--------+-------+--------+----+----------+--------+----+----+--------+----+-------+----+-----+----+----+----+-----+-----+-------+-----+----+\n",
      "|12378414|    0.0|     0.0| 0.0|       0.0|     1.0| 0.0| 0.0|     0.0| 0.0|    0.0| 0.0|  1.0| 0.0| 0.0| 0.0|  0.0|  0.0|    0.0|  0.0| 0.0|\n",
      "|13005847|    1.0|     0.0| 1.0|       0.0|     1.0| 0.0| 1.0|     0.0| 0.0|    0.0| 1.0|  0.0| 0.0| 0.0| 0.0|  0.0|  0.0|    0.0|  0.0| 0.0|\n",
      "|13873910|    1.0|     0.0| 1.0|       0.0|     0.0| 1.0| 0.0|     0.0| 0.0|    0.0| 0.0|  0.0| 0.0| 0.0| 1.0|  0.0|  0.0|    0.0|  0.0| 0.0|\n",
      "|13897336|    1.0|     0.0| 0.0|       0.0|     0.0| 1.0| 0.0|     0.0| 0.0|    0.0| 1.0|  0.0| 0.0| 0.0| 0.0|  0.0|  0.0|    0.0|  0.0| 0.0|\n",
      "|14355683|    1.0|     0.0| 1.0|       0.0|     0.0| 1.0| 0.0|     1.0| 1.0|    1.0| 0.0|  1.0| 0.0| 0.0| 1.0|  0.0|  0.0|    0.0|  0.0| 0.0|\n",
      "+--------+-------+--------+----+----------+--------+----+----+--------+----+-------+----+-----+----+----+----+-----+-----+-------+-----+----+\n",
      "only showing top 5 rows\n",
      "\n"
     ]
    }
   ],
   "source": [
    "test_df_1.show(5)"
   ]
  },
  {
   "cell_type": "code",
   "execution_count": 24,
   "metadata": {},
   "outputs": [
    {
     "name": "stdout",
     "output_type": "stream",
     "text": [
      "+--------+-------+--------+----+----------+--------+----+----+--------+----+-------+----+-----+----+----+----+-----+-----+-------+-----+----+\n",
      "|movie_id|P drama|P Comedy|P RF|P Thriller|P Action|P WC|P CF|P Horror|P BW|P Indie|P AA|P Adv|P FF|P SF|P RD|P Ani|P Mus|P SciFi|P Mys|P RC|\n",
      "+--------+-------+--------+----+----------+--------+----+----+--------+----+-------+----+-----+----+----+----+-----+-----+-------+-----+----+\n",
      "|12378414|      1|       1|   1|         0|       0|   1|   0|       0|   0|      0|   0|    0|   0|   0|   0|    0|    0|      0|    0|   1|\n",
      "|13005847|      0|       0|   0|         0|       0|   0|   0|       0|   0|      0|   0|    0|   0|   0|   0|    0|    0|      0|    0|   0|\n",
      "+--------+-------+--------+----+----------+--------+----+----+--------+----+-------+----+-----+----+----+----+-----+-----+-------+-----+----+\n",
      "only showing top 2 rows\n",
      "\n"
     ]
    }
   ],
   "source": [
    "from pyspark.sql.functions import col\n",
    "test_res_df = test_df_1.select([col(c).cast(IntegerType()).cast(\"string\") for c in test_df_1.columns])\n",
    "test_res_df.show(2)"
   ]
  },
  {
   "cell_type": "code",
   "execution_count": 25,
   "metadata": {},
   "outputs": [],
   "source": [
    "from pyspark.sql.functions import concat_ws\n",
    "test_2 = test_res_df.select(\"movie_id\",concat_ws(' ', \"P drama\",\"P Comedy\",\"P RF\",\"P Thriller\",\"P Action\",\"P WC\",\"P CF\",\"P Horror\",\"P BW\",\"P Indie\",\"P AA\",\"P Adv\",\"P FF\",\"P SF\",\"P RD\",\"P Ani\",\"P Mus\",\"P SciFi\",\"P Mys\",\"P RC\").alias('predictions'))"
   ]
  },
  {
   "cell_type": "code",
   "execution_count": 26,
   "metadata": {},
   "outputs": [
    {
     "name": "stdout",
     "output_type": "stream",
     "text": [
      "+--------+--------------------+\n",
      "|movie_id|         predictions|\n",
      "+--------+--------------------+\n",
      "|12378414|1 1 1 0 0 1 0 0 0...|\n",
      "|13005847|0 0 0 0 0 0 0 0 0...|\n",
      "+--------+--------------------+\n",
      "only showing top 2 rows\n",
      "\n"
     ]
    }
   ],
   "source": [
    "test_df_try = test_2.select(col(\"movie_id\").cast(IntegerType()),col(\"predictions\"))\n",
    "test_df_try.show(2)"
   ]
  },
  {
   "cell_type": "code",
   "execution_count": null,
   "metadata": {},
   "outputs": [],
   "source": [
    "test_df_try.repartition(1).write.csv(\"./submission/part1.csv\",header=True)"
   ]
  },
  {
   "cell_type": "markdown",
   "metadata": {},
   "source": [
    "# Part 2: Using TF-IDF"
   ]
  },
  {
   "cell_type": "code",
   "execution_count": 23,
   "metadata": {},
   "outputs": [],
   "source": [
    "from pyspark.ml.feature import HashingTF, IDF\n",
    "\n",
    "hashingTF = HashingTF(inputCol=\"filtered\", outputCol=\"rawFeatures\", numFeatures=100000)\n",
    "idf = IDF(inputCol=\"rawFeatures\", outputCol=\"features\", minDocFreq=5) #minDocFreq: remove sparse terms\n",
    "\n",
    "pipeline_2 = Pipeline(stages=[hashingTF, idf])\n",
    "pipelineFit_2 = pipeline_2.fit(dataset)\n",
    "dataset_2 = pipelineFit_2.transform(test_dataset)\n"
   ]
  },
  {
   "cell_type": "code",
   "execution_count": 24,
   "metadata": {},
   "outputs": [
    {
     "name": "stdout",
     "output_type": "stream",
     "text": [
      "+--------+--------------------+--------------------+--------------------+--------------------+--------------------+--------------------+\n",
      "|movie_id|          movie_name|                plot|               words|            filtered|         rawFeatures|            features|\n",
      "+--------+--------------------+--------------------+--------------------+--------------------+--------------------+--------------------+\n",
      "| 1335380|              Exodus|The film is based...|[the, film, is, b...|[film, based, eve...|(100000,[604,999,...|(100000,[604,999,...|\n",
      "|29062594|A la salida nos v...|A group of teenag...|[a, group, of, te...|[group, teenagers...|(100000,[24073,24...|(100000,[24073,24...|\n",
      "+--------+--------------------+--------------------+--------------------+--------------------+--------------------+--------------------+\n",
      "only showing top 2 rows\n",
      "\n"
     ]
    }
   ],
   "source": [
    "dataset_2.show(2)"
   ]
  },
  {
   "cell_type": "code",
   "execution_count": 25,
   "metadata": {},
   "outputs": [
    {
     "name": "stdout",
     "output_type": "stream",
     "text": [
      "+--------+--------------------+--------------------+--------------------+--------------------+--------------------+--------------------+\n",
      "|movie_id|          movie_name|                plot|               words|            filtered|         rawFeatures|            features|\n",
      "+--------+--------------------+--------------------+--------------------+--------------------+--------------------+--------------------+\n",
      "| 1335380|              Exodus|The film is based...|[the, film, is, b...|[film, based, eve...|(100000,[604,999,...|(100000,[604,999,...|\n",
      "|29062594|A la salida nos v...|A group of teenag...|[a, group, of, te...|[group, teenagers...|(100000,[24073,24...|(100000,[24073,24...|\n",
      "+--------+--------------------+--------------------+--------------------+--------------------+--------------------+--------------------+\n",
      "only showing top 2 rows\n",
      "\n"
     ]
    }
   ],
   "source": [
    "idf_test_data = pipelineFit_2.transform(test_dataset)\n",
    "idf_test_data.show(2)"
   ]
  },
  {
   "cell_type": "code",
   "execution_count": 26,
   "metadata": {},
   "outputs": [],
   "source": [
    "drama_model = LogisticRegressionModel.load(\"./part2_lr_models/drama/\")"
   ]
  },
  {
   "cell_type": "code",
   "execution_count": 27,
   "metadata": {},
   "outputs": [
    {
     "name": "stdout",
     "output_type": "stream",
     "text": [
      "+--------+-------+\n",
      "|movie_id|P drama|\n",
      "+--------+-------+\n",
      "|12378414|    0.0|\n",
      "|13005847|    1.0|\n",
      "+--------+-------+\n",
      "only showing top 2 rows\n",
      "\n"
     ]
    }
   ],
   "source": [
    "pred_test_drama = drama_model.transform(idf_test_data)\n",
    "final_pred_test_drama = pred_test_drama.select(col('movie_id').alias('m_id'),col('prediction').alias('P drama'))\n",
    "test_df = (cv_test_data.join(final_pred_test_drama,col(\"movie_id\") == col(\"m_id\"),\"leftouter\"))\n",
    "\n",
    "test_df_1 = test_df.select(\"movie_id\",\"P drama\")\n",
    "test_df_1.show(2)"
   ]
  },
  {
   "cell_type": "code",
   "execution_count": 28,
   "metadata": {},
   "outputs": [
    {
     "name": "stdout",
     "output_type": "stream",
     "text": [
      "+--------+-------+--------+\n",
      "|movie_id|P drama|P comedy|\n",
      "+--------+-------+--------+\n",
      "|12378414|    0.0|     1.0|\n",
      "|13005847|    1.0|     0.0|\n",
      "+--------+-------+--------+\n",
      "only showing top 2 rows\n",
      "\n"
     ]
    }
   ],
   "source": [
    "comedy_model = LogisticRegressionModel.load(\"./part2_lr_models/comedy/\")\n",
    "\n",
    "pred_test_comedy = comedy_model.transform(idf_test_data)\n",
    "final_pred_test_comedy = pred_test_comedy.select(col('movie_id').alias('m_id'),col('prediction').alias('P comedy'))\n",
    "test_df = (test_df_1.join(final_pred_test_comedy,col(\"movie_id\") == col(\"m_id\"),\"leftouter\"))\n",
    "\n",
    "test_df_1 = test_df.select(\"movie_id\",\"P drama\",\"P comedy\")\n",
    "test_df_1.show(2)"
   ]
  },
  {
   "cell_type": "code",
   "execution_count": 29,
   "metadata": {},
   "outputs": [],
   "source": [
    "romance_film_model = LogisticRegressionModel.load(\"./part2_lr_models/romance/\")\n",
    "\n",
    "pred_test_romance = romance_film_model.transform(idf_test_data)\n",
    "final_pred_test_romance = pred_test_romance.select(col('movie_id').alias('m_id'),col('prediction').alias('P RF'))\n",
    "test_df = (test_df_1.join(final_pred_test_romance,col(\"movie_id\") == col(\"m_id\"),\"leftouter\"))\n",
    "\n",
    "test_df_1 = test_df.select(\"movie_id\",\"P drama\",\"P Comedy\",\"P RF\")\n",
    "\n",
    "thriller_model = LogisticRegressionModel.load(\"./part2_lr_models/thriller/\")\n",
    "\n",
    "pred_test_thriller = thriller_model.transform(idf_test_data)\n",
    "final_pred_test_thriller = pred_test_thriller.select(col('movie_id').alias('m_id'),col('prediction').alias('P Thriller'))\n",
    "test_df = (test_df_1.join(final_pred_test_thriller,col(\"movie_id\") == col(\"m_id\"),\"leftouter\"))\n",
    "\n",
    "test_df_1 = test_df.select(\"movie_id\",\"P drama\",\"P Comedy\",\"P RF\",\"P Thriller\")\n",
    "\n",
    "action_model = LogisticRegressionModel.load(\"./part2_lr_models/action/\")\n",
    "\n",
    "pred_test_action = action_model.transform(idf_test_data)\n",
    "final_pred_test_action = pred_test_action.select(col('movie_id').alias('m_id'),col('prediction').alias('P Action'))\n",
    "test_df = (test_df_1.join(final_pred_test_action,col(\"movie_id\") == col(\"m_id\"),\"leftouter\"))\n",
    "\n",
    "test_df_1 = test_df.select(\"movie_id\",\"P drama\",\"P Comedy\",\"P RF\",\"P Thriller\",\"P Action\")\n",
    "\n",
    "wc_model = LogisticRegressionModel.load(\"./part2_lr_models/world_cinema/\")\n",
    "\n",
    "pred_test_wc = wc_model.transform(idf_test_data)\n",
    "final_pred_test_wc = pred_test_wc.select(col('movie_id').alias('m_id'),col('prediction').alias('P WC'))\n",
    "test_df = (test_df_1.join(final_pred_test_wc,col(\"movie_id\") == col(\"m_id\"),\"leftouter\"))\n",
    "\n",
    "test_df_1 = test_df.select(\"movie_id\",\"P drama\",\"P Comedy\",\"P RF\",\"P Thriller\",\"P Action\",\"P WC\")\n",
    "\n",
    "cf_model = LogisticRegressionModel.load(\"./part2_lr_models/crime_fiction/\")\n",
    "\n",
    "\n",
    "pred_test_cf = cf_model.transform(idf_test_data)\n",
    "final_pred_test_cf = pred_test_cf.select(col('movie_id').alias('m_id'),col('prediction').alias('P CF'))\n",
    "test_df = (test_df_1.join(final_pred_test_cf,col(\"movie_id\") == col(\"m_id\"),\"leftouter\"))\n",
    "\n",
    "test_df_1 = test_df.select(\"movie_id\",\"P drama\",\"P Comedy\",\"P RF\",\"P Thriller\",\"P Action\",\"P WC\",\"P CF\")\n",
    "\n",
    "horror_model = LogisticRegressionModel.load(\"./part2_lr_models/horror/\")\n",
    "\n",
    "\n",
    "pred_test_horror = horror_model.transform(idf_test_data)\n",
    "final_pred_test_horror = pred_test_horror.select(col('movie_id').alias('m_id'),col('prediction').alias('P Horror'))\n",
    "test_df = (test_df_1.join(final_pred_test_horror,col(\"movie_id\") == col(\"m_id\"),\"leftouter\"))\n",
    "\n",
    "test_df_1 = test_df.select(\"movie_id\",\"P drama\",\"P Comedy\",\"P RF\",\"P Thriller\",\"P Action\",\"P WC\",\"P CF\",\"P Horror\")\n",
    "\n",
    "bw_model = LogisticRegressionModel.load(\"./part2_lr_models/black_white/\")\n",
    "\n",
    "\n",
    "pred_test_bw = bw_model.transform(idf_test_data)\n",
    "final_pred_test_bw = pred_test_bw.select(col('movie_id').alias('m_id'),col('prediction').alias('P BW'))\n",
    "test_df = (test_df_1.join(final_pred_test_bw,col(\"movie_id\") == col(\"m_id\"),\"leftouter\"))\n",
    "\n",
    "test_df_1 = test_df.select(\"movie_id\",\"P drama\",\"P Comedy\",\"P RF\",\"P Thriller\",\"P Action\",\"P WC\",\"P CF\",\"P Horror\",\"P BW\")\n",
    "\n",
    "indie_model = LogisticRegressionModel.load(\"./part2_lr_models/indie/\")\n",
    "\n",
    "\n",
    "pred_test_indie = indie_model.transform(idf_test_data)\n",
    "final_pred_test_indie = pred_test_indie.select(col('movie_id').alias('m_id'),col('prediction').alias('P Indie'))\n",
    "test_df = (test_df_1.join(final_pred_test_indie,col(\"movie_id\") == col(\"m_id\"),\"leftouter\"))\n",
    "\n",
    "test_df_1 = test_df.select(\"movie_id\",\"P drama\",\"P Comedy\",\"P RF\",\"P Thriller\",\"P Action\",\"P WC\",\"P CF\",\"P Horror\",\"P BW\",\"P Indie\")\n",
    "\n",
    "aa_model = LogisticRegressionModel.load(\"./part2_lr_models/action_adventure/\")\n",
    "\n",
    "\n",
    "pred_test_aa = aa_model.transform(idf_test_data)\n",
    "final_pred_test_aa = pred_test_aa.select(col('movie_id').alias('m_id'),col('prediction').alias('P AA'))\n",
    "test_df = (test_df_1.join(final_pred_test_aa,col(\"movie_id\") == col(\"m_id\"),\"leftouter\"))\n",
    "\n",
    "test_df_1 = test_df.select(\"movie_id\",\"P drama\",\"P Comedy\",\"P RF\",\"P Thriller\",\"P Action\",\"P WC\",\"P CF\",\"P Horror\",\"P BW\",\"P Indie\",\"P AA\")\n",
    "\n",
    "a_model = LogisticRegressionModel.load(\"./part2_lr_models/adventure/\")\n",
    "\n",
    "\n",
    "pred_test_adv = a_model.transform(idf_test_data)\n",
    "final_pred_test_adv = pred_test_adv.select(col('movie_id').alias('m_id'),col('prediction').alias('P Adv'))\n",
    "test_df = (test_df_1.join(final_pred_test_adv,col(\"movie_id\") == col(\"m_id\"),\"leftouter\"))\n",
    "\n",
    "test_df_1 = test_df.select(\"movie_id\",\"P drama\",\"P Comedy\",\"P RF\",\"P Thriller\",\"P Action\",\"P WC\",\"P CF\",\"P Horror\",\"P BW\",\"P Indie\",\"P AA\",\"P Adv\")\n",
    "\n",
    "ff_model = LogisticRegressionModel.load(\"./part2_lr_models/family/\")\n",
    "\n",
    "\n",
    "pred_test_ff = ff_model.transform(idf_test_data)\n",
    "final_pred_test_ff = pred_test_ff.select(col('movie_id').alias('m_id'),col('prediction').alias('P FF'))\n",
    "test_df = (test_df_1.join(final_pred_test_ff,col(\"movie_id\") == col(\"m_id\"),\"leftouter\"))\n",
    "\n",
    "test_df_1 = test_df.select(\"movie_id\",\"P drama\",\"P Comedy\",\"P RF\",\"P Thriller\",\"P Action\",\"P WC\",\"P CF\",\"P Horror\",\"P BW\",\"P Indie\",\"P AA\",\"P Adv\",\"P FF\")\n",
    "\n",
    "sf_model = LogisticRegressionModel.load(\"./part2_lr_models/short_film/\")\n",
    "\n",
    "\n",
    "pred_test_sf = sf_model.transform(idf_test_data)\n",
    "final_pred_test_sf = pred_test_sf.select(col('movie_id').alias('m_id'),col('prediction').alias('P SF'))\n",
    "test_df = (test_df_1.join(final_pred_test_sf,col(\"movie_id\") == col(\"m_id\"),\"leftouter\"))\n",
    "\n",
    "test_df_1 = test_df.select(\"movie_id\",\"P drama\",\"P Comedy\",\"P RF\",\"P Thriller\",\"P Action\",\"P WC\",\"P CF\",\"P Horror\",\"P BW\",\"P Indie\",\"P AA\",\"P Adv\",\"P FF\",\"P SF\")\n",
    "\n",
    "\n",
    "rd_model = LogisticRegressionModel.load(\"./part2_lr_models/rom_drama/\")\n",
    "\n",
    "pred_test_rd = rd_model.transform(idf_test_data)\n",
    "final_pred_test_rd = pred_test_rd.select(col('movie_id').alias('m_id'),col('prediction').alias('P RD'))\n",
    "test_df = (test_df_1.join(final_pred_test_rd,col(\"movie_id\") == col(\"m_id\"),\"leftouter\"))\n",
    "\n",
    "test_df_1 = test_df.select(\"movie_id\",\"P drama\",\"P Comedy\",\"P RF\",\"P Thriller\",\"P Action\",\"P WC\",\"P CF\",\"P Horror\",\"P BW\",\"P Indie\",\"P AA\",\"P Adv\",\"P FF\",\"P SF\", \"P RD\")\n",
    "\n",
    "\n",
    "ani_model = LogisticRegressionModel.load(\"./part2_lr_models/animation/\")\n",
    "\n",
    "pred_test_ani = ani_model.transform(idf_test_data)\n",
    "final_pred_test_ani = pred_test_ani.select(col('movie_id').alias('m_id'),col('prediction').alias('P Ani'))\n",
    "test_df = (test_df_1.join(final_pred_test_ani,col(\"movie_id\") == col(\"m_id\"),\"leftouter\"))\n",
    "\n",
    "test_df_1 = test_df.select(\"movie_id\",\"P drama\",\"P Comedy\",\"P RF\",\"P Thriller\",\"P Action\",\"P WC\",\"P CF\",\"P Horror\",\"P BW\",\"P Indie\",\"P AA\",\"P Adv\",\"P FF\",\"P SF\", \"P RD\", \"P Ani\")\n",
    "\n",
    "\n",
    "mus_model = LogisticRegressionModel.load(\"./part2_lr_models/musical/\")\n",
    "\n",
    "pred_test_mus = mus_model.transform(idf_test_data)\n",
    "final_pred_test_mus = pred_test_mus.select(col('movie_id').alias('m_id'),col('prediction').alias('P Mus'))\n",
    "test_df = (test_df_1.join(final_pred_test_mus,col(\"movie_id\") == col(\"m_id\"),\"leftouter\"))\n",
    "\n",
    "test_df_1 = test_df.select(\"movie_id\",\"P drama\",\"P Comedy\",\"P RF\",\"P Thriller\",\"P Action\",\"P WC\",\"P CF\",\"P Horror\",\"P BW\",\"P Indie\",\"P AA\",\"P Adv\",\"P FF\",\"P SF\", \"P RD\", \"P Ani\", \"P Mus\")\n",
    "\n",
    "\n",
    "scf_model = LogisticRegressionModel.load(\"./part2_lr_models/science_fiction/\")\n",
    "\n",
    "pred_test_scf = scf_model.transform(idf_test_data)\n",
    "final_pred_test_scf = pred_test_scf.select(col('movie_id').alias('m_id'),col('prediction').alias('P SciFi'))\n",
    "test_df = (test_df_1.join(final_pred_test_scf,col(\"movie_id\") == col(\"m_id\"),\"leftouter\"))\n",
    "\n",
    "test_df_1 = test_df.select(\"movie_id\",\"P drama\",\"P Comedy\",\"P RF\",\"P Thriller\",\"P Action\",\"P WC\",\"P CF\",\"P Horror\",\"P BW\",\"P Indie\",\"P AA\",\"P Adv\",\"P FF\",\"P SF\", \"P RD\", \"P Ani\", \"P Mus\", \"P SciFi\")\n",
    "\n",
    "\n",
    "m_model = LogisticRegressionModel.load(\"./part2_lr_models/mystery/\")\n",
    "\n",
    "pred_test_mys = m_model.transform(idf_test_data)\n",
    "final_pred_test_mys = pred_test_mys.select(col('movie_id').alias('m_id'),col('prediction').alias('P Mys'))\n",
    "test_df = (test_df_1.join(final_pred_test_mys,col(\"movie_id\") == col(\"m_id\"),\"leftouter\"))\n",
    "\n",
    "test_df_1 = test_df.select(\"movie_id\",\"P drama\",\"P Comedy\",\"P RF\",\"P Thriller\",\"P Action\",\"P WC\",\"P CF\",\"P Horror\",\"P BW\",\"P Indie\",\"P AA\",\"P Adv\",\"P FF\",\"P SF\", \"P RD\", \"P Ani\", \"P Mus\", \"P SciFi\", \"P Mys\")\n",
    "\n",
    "\n",
    "rc_model = LogisticRegressionModel.load(\"./part2_lr_models/rom_com/\")\n",
    "\n",
    "pred_test_rc = rc_model.transform(idf_test_data)\n",
    "final_pred_test_rc = pred_test_rc.select(col('movie_id').alias('m_id'),col('prediction').alias('P RC'))\n",
    "test_df = (test_df_1.join(final_pred_test_rc,col(\"movie_id\") == col(\"m_id\"),\"leftouter\"))\n",
    "\n",
    "test_df_1 = test_df.select(\"movie_id\",\"P drama\",\"P Comedy\",\"P RF\",\"P Thriller\",\"P Action\",\"P WC\",\"P CF\",\"P Horror\",\"P BW\",\"P Indie\",\"P AA\",\"P Adv\",\"P FF\",\"P SF\", \"P RD\", \"P Ani\", \"P Mus\", \"P SciFi\", \"P Mys\", \"P RC\")"
   ]
  },
  {
   "cell_type": "code",
   "execution_count": 30,
   "metadata": {},
   "outputs": [
    {
     "name": "stdout",
     "output_type": "stream",
     "text": [
      "+--------+-------+--------+----+----------+--------+----+----+--------+----+-------+----+-----+----+----+----+-----+-----+-------+-----+----+\n",
      "|movie_id|P drama|P Comedy|P RF|P Thriller|P Action|P WC|P CF|P Horror|P BW|P Indie|P AA|P Adv|P FF|P SF|P RD|P Ani|P Mus|P SciFi|P Mys|P RC|\n",
      "+--------+-------+--------+----+----------+--------+----+----+--------+----+-------+----+-----+----+----+----+-----+-----+-------+-----+----+\n",
      "|12378414|    0.0|     1.0| 0.0|       0.0|     0.0| 0.0| 0.0|     0.0| 0.0|    0.0| 0.0|  0.0| 0.0| 0.0| 0.0|  0.0|  0.0|    0.0|  0.0| 1.0|\n",
      "|13005847|    1.0|     0.0| 0.0|       1.0|     0.0| 0.0| 1.0|     0.0| 0.0|    0.0| 0.0|  0.0| 0.0| 0.0| 0.0|  0.0|  0.0|    0.0|  0.0| 0.0|\n",
      "|13873910|    1.0|     0.0| 1.0|       0.0|     0.0| 0.0| 0.0|     0.0| 0.0|    0.0| 0.0|  0.0| 0.0| 0.0| 0.0|  0.0|  0.0|    0.0|  0.0| 0.0|\n",
      "|13897336|    0.0|     0.0| 0.0|       1.0|     0.0| 0.0| 0.0|     0.0| 0.0|    0.0| 1.0|  0.0| 0.0| 0.0| 0.0|  0.0|  0.0|    0.0|  0.0| 0.0|\n",
      "|14355683|    1.0|     0.0| 1.0|       0.0|     0.0| 0.0| 0.0|     0.0| 0.0|    0.0| 0.0|  0.0| 0.0| 0.0| 0.0|  0.0|  0.0|    0.0|  0.0| 0.0|\n",
      "+--------+-------+--------+----+----------+--------+----+----+--------+----+-------+----+-----+----+----+----+-----+-----+-------+-----+----+\n",
      "only showing top 5 rows\n",
      "\n"
     ]
    }
   ],
   "source": [
    "test_df_1.show(5)"
   ]
  },
  {
   "cell_type": "code",
   "execution_count": 36,
   "metadata": {},
   "outputs": [
    {
     "name": "stdout",
     "output_type": "stream",
     "text": [
      "+--------+-------+--------+----+----------+--------+----+----+--------+----+-------+----+-----+----+----+----+-----+-----+-------+-----+----+\n",
      "|movie_id|P drama|P Comedy|P RF|P Thriller|P Action|P WC|P CF|P Horror|P BW|P Indie|P AA|P Adv|P FF|P SF|P RD|P Ani|P Mus|P SciFi|P Mys|P RC|\n",
      "+--------+-------+--------+----+----------+--------+----+----+--------+----+-------+----+-----+----+----+----+-----+-----+-------+-----+----+\n",
      "|12378414|      0|       1|   0|         0|       0|   0|   0|       0|   0|      0|   0|    0|   0|   0|   0|    0|    0|      0|    0|   1|\n",
      "|13005847|      1|       0|   0|         1|       0|   0|   1|       0|   0|      0|   0|    0|   0|   0|   0|    0|    0|      0|    0|   0|\n",
      "+--------+-------+--------+----+----------+--------+----+----+--------+----+-------+----+-----+----+----+----+-----+-----+-------+-----+----+\n",
      "only showing top 2 rows\n",
      "\n"
     ]
    }
   ],
   "source": [
    "test_res_df = test_df_1.select([col(c).cast(IntegerType()).cast(\"string\") for c in test_df_1.columns])\n",
    "test_res_df.show(2)"
   ]
  },
  {
   "cell_type": "code",
   "execution_count": 37,
   "metadata": {},
   "outputs": [],
   "source": [
    "test_2 = test_res_df.select(\"movie_id\",concat_ws(' ', \"P drama\",\"P Comedy\",\"P RF\",\"P Thriller\",\"P Action\",\"P WC\",\"P CF\",\"P Horror\",\"P BW\",\"P Indie\",\"P AA\",\"P Adv\",\"P FF\",\"P SF\",\"P RD\",\"P Ani\",\"P Mus\",\"P SciFi\",\"P Mys\",\"P RC\").alias('predictions'))"
   ]
  },
  {
   "cell_type": "code",
   "execution_count": 38,
   "metadata": {},
   "outputs": [
    {
     "name": "stdout",
     "output_type": "stream",
     "text": [
      "+--------+--------------------+\n",
      "|movie_id|         predictions|\n",
      "+--------+--------------------+\n",
      "|12378414|0 1 0 0 0 0 0 0 0...|\n",
      "|13005847|1 0 0 1 0 0 1 0 0...|\n",
      "+--------+--------------------+\n",
      "only showing top 2 rows\n",
      "\n"
     ]
    }
   ],
   "source": [
    "test_df_try = test_2.select(col(\"movie_id\").cast(IntegerType()),col(\"predictions\"))\n",
    "test_df_try.show(2)"
   ]
  },
  {
   "cell_type": "code",
   "execution_count": null,
   "metadata": {},
   "outputs": [],
   "source": [
    "test_df_try.repartition(1).write.csv(\"./submission/part2.csv\",header=True)"
   ]
  },
  {
   "cell_type": "markdown",
   "metadata": {},
   "source": [
    "# Part 3: Custom Feature Engineering"
   ]
  },
  {
   "cell_type": "code",
   "execution_count": 31,
   "metadata": {},
   "outputs": [],
   "source": [
    "hashingTF = HashingTF(inputCol=\"filtered\", outputCol=\"rawFeatures\", numFeatures=50000)\n",
    "idf = IDF(inputCol=\"rawFeatures\", outputCol=\"idf_features\", minDocFreq=5) #minDocFreq: remove sparse terms\n",
    "pipeline_idf = Pipeline(stages=[hashingTF, idf])\n",
    "pipelineFit_idf = pipeline_idf.fit(dataset)\n",
    "idf_dataset = pipelineFit_idf.transform(dataset)"
   ]
  },
  {
   "cell_type": "code",
   "execution_count": 33,
   "metadata": {},
   "outputs": [],
   "source": [
    "from pyspark.ml.feature import Word2Vec, VectorAssembler\n",
    "word2vec = Word2Vec(vectorSize=50, seed=42, minCount=5, maxSentenceLength=100, \\\n",
    "                    maxIter = 1, numPartitions = 10, windowSize = 5, \\\n",
    "                    inputCol=\"filtered\", outputCol=\"w2v_features\")\n",
    "vecAssembler = VectorAssembler(inputCols=[\"idf_features\", \"w2v_features\"], outputCol=\"features\")\n",
    "word2vec_pipeline = Pipeline(stages=[word2vec,vecAssembler])"
   ]
  },
  {
   "cell_type": "code",
   "execution_count": 34,
   "metadata": {},
   "outputs": [],
   "source": [
    "word2vec_model = word2vec_pipeline.fit(idf_dataset)\n",
    "word2vec_df = word2vec_model.transform(idf_dataset)"
   ]
  },
  {
   "cell_type": "code",
   "execution_count": 35,
   "metadata": {},
   "outputs": [
    {
     "name": "stdout",
     "output_type": "stream",
     "text": [
      "+--------+------------------+--------------------+--------------------+--------------------+--------------------+-----+------+------------+--------+------+------------+-------------+------+---------------+-----+----------------+-----------+---------+----------+--------------+---------+-------+---------------+---------------+-------+--------------------+--------------------+--------------------+--------------------+--------------------+--------------------+\n",
      "|movie_id|        movie_name|                plot|               genre|                  c1|                  c2|Drama|Comedy|Romance Film|Thriller|Action|World cinema|Crime Fiction|Horror|Black-and-white|Indie|Action/Adventure|Family Film|Adventure|Short Film|Romantic drama|Animation|Musical|Science Fiction|Romantic comedy|Mystery|               words|            filtered|         rawFeatures|        idf_features|        w2v_features|            features|\n",
      "+--------+------------------+--------------------+--------------------+--------------------+--------------------+-----+------+------------+--------+------+------------+-------------+------+---------------+-----+----------------+-----------+---------+----------+--------------+---------+-------+---------------+---------------+-------+--------------------+--------------------+--------------------+--------------------+--------------------+--------------------+\n",
      "|23890098|        Taxi Blues|Shlykov, a hard-w...|[World cinema, Dr...|(20,[0,5],[1.0,1.0])|[1.0, 0.0, 0.0, 0...|  1.0|   0.0|         0.0|     0.0|   0.0|         1.0|          0.0|   0.0|            0.0|  0.0|             0.0|        0.0|      0.0|       0.0|           0.0|      0.0|    0.0|            0.0|            0.0|    0.0|[shlykov, a, hard...|[shlykov, hard, w...|(50000,[2069,2799...|(50000,[2069,2799...|[-0.1217139617485...|(50050,[2069,2799...|\n",
      "|31186339|  The Hunger Games|The nation of Pan...|[Action/Adventure...|(20,[0,4,10,17],[...|[1.0, 0.0, 0.0, 0...|  1.0|   0.0|         0.0|     0.0|   1.0|         0.0|          0.0|   0.0|            0.0|  0.0|             1.0|        0.0|      0.0|       0.0|           0.0|      0.0|    0.0|            1.0|            0.0|    0.0|[the, nation, of,...|[nation, panem, c...|(50000,[66,76,429...|(50000,[66,76,429...|[0.01642516007312...|(50050,[66,76,494...|\n",
      "|20663735|        Narasimham|Poovalli Induchoo...|[Musical, Action,...|(20,[0,4,16],[1.0...|[1.0, 0.0, 0.0, 0...|  1.0|   0.0|         0.0|     0.0|   1.0|         0.0|          0.0|   0.0|            0.0|  0.0|             0.0|        0.0|      0.0|       0.0|           0.0|      0.0|    1.0|            0.0|            0.0|    0.0|[poovalli, induch...|[poovalli, induch...|(50000,[104,514,6...|(50000,[104,514,6...|[0.07637133987268...|(50050,[104,514,6...|\n",
      "| 2231378|The Lemon Drop Kid|The Lemon Drop Ki...|            [Comedy]|      (20,[1],[1.0])|[0.0, 1.0, 0.0, 0...|  0.0|   1.0|         0.0|     0.0|   0.0|         0.0|          0.0|   0.0|            0.0|  0.0|             0.0|        0.0|      0.0|       0.0|           0.0|      0.0|    0.0|            0.0|            0.0|    0.0|[the, lemon, drop...|[lemon, drop, kid...|(50000,[76,77,87,...|(50000,[76,77,87,...|[0.01516574928731...|(50050,[76,77,87,...|\n",
      "|  595909| A Cry in the Dark|Seventh-day Adven...|[Crime Fiction, W...|(20,[0,5,6],[1.0,...|[1.0, 0.0, 0.0, 0...|  1.0|   0.0|         0.0|     0.0|   0.0|         1.0|          1.0|   0.0|            0.0|  0.0|             0.0|        0.0|      0.0|       0.0|           0.0|      0.0|    0.0|            0.0|            0.0|    0.0|[seventh, day, ad...|[seventh, day, ad...|(50000,[437,465,9...|(50000,[437,465,9...|[-0.0019198720819...|(50050,[437,465,9...|\n",
      "+--------+------------------+--------------------+--------------------+--------------------+--------------------+-----+------+------------+--------+------+------------+-------------+------+---------------+-----+----------------+-----------+---------+----------+--------------+---------+-------+---------------+---------------+-------+--------------------+--------------------+--------------------+--------------------+--------------------+--------------------+\n",
      "only showing top 5 rows\n",
      "\n"
     ]
    }
   ],
   "source": [
    "word2vec_df.show(5)"
   ]
  },
  {
   "cell_type": "code",
   "execution_count": 36,
   "metadata": {},
   "outputs": [],
   "source": [
    "pipelineFit_idf_test = pipeline_idf.fit(test_dataset)\n",
    "idf_test_dataset = pipelineFit_idf_test.transform(test_dataset)\n",
    "w2v_test_model = word2vec_pipeline.fit(idf_test_dataset)\n",
    "w2v_test_csv_dataset = w2v_test_model.transform(idf_test_dataset)"
   ]
  },
  {
   "cell_type": "code",
   "execution_count": 37,
   "metadata": {},
   "outputs": [
    {
     "name": "stdout",
     "output_type": "stream",
     "text": [
      "+--------+--------------------+--------------------+\n",
      "|movie_id|            filtered|            features|\n",
      "+--------+--------------------+--------------------+\n",
      "| 1335380|[film, based, eve...|(50050,[604,918,1...|\n",
      "|29062594|[group, teenagers...|(50050,[1982,2833...|\n",
      "| 9252321|[story, zulu, fam...|(50050,[177,230,4...|\n",
      "|13455076|[stooges, play, t...|(50050,[324,1429,...|\n",
      "|24165951|[soldier, fortune...|(50050,[3510,5159...|\n",
      "+--------+--------------------+--------------------+\n",
      "only showing top 5 rows\n",
      "\n"
     ]
    }
   ],
   "source": [
    "test_csv_dataset = w2v_test_csv_dataset.select(\"movie_id\",\"filtered\",\"features\")\n",
    "test_csv_dataset.show(5)"
   ]
  },
  {
   "cell_type": "code",
   "execution_count": 45,
   "metadata": {},
   "outputs": [],
   "source": [
    "drama_model = LogisticRegressionModel.load(\"./part3_lr_models/drama/\")"
   ]
  },
  {
   "cell_type": "code",
   "execution_count": 46,
   "metadata": {},
   "outputs": [
    {
     "name": "stdout",
     "output_type": "stream",
     "text": [
      "+--------+-------+\n",
      "|movie_id|P drama|\n",
      "+--------+-------+\n",
      "|12378414|    0.0|\n",
      "|13005847|    0.0|\n",
      "+--------+-------+\n",
      "only showing top 2 rows\n",
      "\n"
     ]
    }
   ],
   "source": [
    "pred_test_drama = drama_model.transform(test_csv_dataset)\n",
    "final_pred_test_drama = pred_test_drama.select(col('movie_id').alias('m_id'),col('prediction').alias('P drama'))\n",
    "test_df = (test_csv_dataset.join(final_pred_test_drama,col(\"movie_id\") == col(\"m_id\"),\"leftouter\"))\n",
    "\n",
    "test_df_1 = test_df.select(\"movie_id\",\"P drama\")\n",
    "test_df_1.show(2)"
   ]
  },
  {
   "cell_type": "code",
   "execution_count": 47,
   "metadata": {},
   "outputs": [
    {
     "name": "stdout",
     "output_type": "stream",
     "text": [
      "+--------+-------+--------+\n",
      "|movie_id|P drama|P comedy|\n",
      "+--------+-------+--------+\n",
      "|12378414|    0.0|     1.0|\n",
      "|13005847|    0.0|     0.0|\n",
      "+--------+-------+--------+\n",
      "only showing top 2 rows\n",
      "\n"
     ]
    }
   ],
   "source": [
    "comedy_model = LogisticRegressionModel.load(\"./part3_lr_models/comedy/\")\n",
    "\n",
    "pred_test_comedy = comedy_model.transform(test_csv_dataset)\n",
    "final_pred_test_comedy = pred_test_comedy.select(col('movie_id').alias('m_id'),col('prediction').alias('P comedy'))\n",
    "test_df = (test_df_1.join(final_pred_test_comedy,col(\"movie_id\") == col(\"m_id\"),\"leftouter\"))\n",
    "\n",
    "test_df_1 = test_df.select(\"movie_id\",\"P drama\",\"P comedy\")\n",
    "test_df_1.show(2)"
   ]
  },
  {
   "cell_type": "code",
   "execution_count": 48,
   "metadata": {},
   "outputs": [],
   "source": [
    "romance_film_model = LogisticRegressionModel.load(\"./part3_lr_models/romance/\")\n",
    "\n",
    "pred_test_romance = romance_film_model.transform(test_csv_dataset)\n",
    "final_pred_test_romance = pred_test_romance.select(col('movie_id').alias('m_id'),col('prediction').alias('P RF'))\n",
    "test_df = (test_df_1.join(final_pred_test_romance,col(\"movie_id\") == col(\"m_id\"),\"leftouter\"))\n",
    "\n",
    "test_df_1 = test_df.select(\"movie_id\",\"P drama\",\"P Comedy\",\"P RF\")\n",
    "\n",
    "thriller_model = LogisticRegressionModel.load(\"./part3_lr_models/thriller/\")\n",
    "\n",
    "pred_test_thriller = thriller_model.transform(test_csv_dataset)\n",
    "final_pred_test_thriller = pred_test_thriller.select(col('movie_id').alias('m_id'),col('prediction').alias('P Thriller'))\n",
    "test_df = (test_df_1.join(final_pred_test_thriller,col(\"movie_id\") == col(\"m_id\"),\"leftouter\"))\n",
    "\n",
    "test_df_1 = test_df.select(\"movie_id\",\"P drama\",\"P Comedy\",\"P RF\",\"P Thriller\")\n",
    "\n",
    "action_model = LogisticRegressionModel.load(\"./part3_lr_models/action/\")\n",
    "\n",
    "pred_test_action = action_model.transform(test_csv_dataset)\n",
    "final_pred_test_action = pred_test_action.select(col('movie_id').alias('m_id'),col('prediction').alias('P Action'))\n",
    "test_df = (test_df_1.join(final_pred_test_action,col(\"movie_id\") == col(\"m_id\"),\"leftouter\"))\n",
    "\n",
    "test_df_1 = test_df.select(\"movie_id\",\"P drama\",\"P Comedy\",\"P RF\",\"P Thriller\",\"P Action\")\n",
    "\n",
    "wc_model = LogisticRegressionModel.load(\"./part3_lr_models/world_cinema/\")\n",
    "\n",
    "pred_test_wc = wc_model.transform(test_csv_dataset)\n",
    "final_pred_test_wc = pred_test_wc.select(col('movie_id').alias('m_id'),col('prediction').alias('P WC'))\n",
    "test_df = (test_df_1.join(final_pred_test_wc,col(\"movie_id\") == col(\"m_id\"),\"leftouter\"))\n",
    "\n",
    "test_df_1 = test_df.select(\"movie_id\",\"P drama\",\"P Comedy\",\"P RF\",\"P Thriller\",\"P Action\",\"P WC\")\n",
    "\n",
    "cf_model = LogisticRegressionModel.load(\"./part3_lr_models/crime_fiction/\")\n",
    "\n",
    "\n",
    "pred_test_cf = cf_model.transform(test_csv_dataset)\n",
    "final_pred_test_cf = pred_test_cf.select(col('movie_id').alias('m_id'),col('prediction').alias('P CF'))\n",
    "test_df = (test_df_1.join(final_pred_test_cf,col(\"movie_id\") == col(\"m_id\"),\"leftouter\"))\n",
    "\n",
    "test_df_1 = test_df.select(\"movie_id\",\"P drama\",\"P Comedy\",\"P RF\",\"P Thriller\",\"P Action\",\"P WC\",\"P CF\")\n",
    "\n",
    "horror_model = LogisticRegressionModel.load(\"./part3_lr_models/horror/\")\n",
    "\n",
    "\n",
    "pred_test_horror = horror_model.transform(test_csv_dataset)\n",
    "final_pred_test_horror = pred_test_horror.select(col('movie_id').alias('m_id'),col('prediction').alias('P Horror'))\n",
    "test_df = (test_df_1.join(final_pred_test_horror,col(\"movie_id\") == col(\"m_id\"),\"leftouter\"))\n",
    "\n",
    "test_df_1 = test_df.select(\"movie_id\",\"P drama\",\"P Comedy\",\"P RF\",\"P Thriller\",\"P Action\",\"P WC\",\"P CF\",\"P Horror\")\n",
    "\n",
    "bw_model = LogisticRegressionModel.load(\"./part3_lr_models/black_white/\")\n",
    "\n",
    "\n",
    "pred_test_bw = bw_model.transform(test_csv_dataset)\n",
    "final_pred_test_bw = pred_test_bw.select(col('movie_id').alias('m_id'),col('prediction').alias('P BW'))\n",
    "test_df = (test_df_1.join(final_pred_test_bw,col(\"movie_id\") == col(\"m_id\"),\"leftouter\"))\n",
    "\n",
    "test_df_1 = test_df.select(\"movie_id\",\"P drama\",\"P Comedy\",\"P RF\",\"P Thriller\",\"P Action\",\"P WC\",\"P CF\",\"P Horror\",\"P BW\")\n",
    "\n",
    "indie_model = LogisticRegressionModel.load(\"./part3_lr_models/indie/\")\n",
    "\n",
    "\n",
    "pred_test_indie = indie_model.transform(test_csv_dataset)\n",
    "final_pred_test_indie = pred_test_indie.select(col('movie_id').alias('m_id'),col('prediction').alias('P Indie'))\n",
    "test_df = (test_df_1.join(final_pred_test_indie,col(\"movie_id\") == col(\"m_id\"),\"leftouter\"))\n",
    "\n",
    "test_df_1 = test_df.select(\"movie_id\",\"P drama\",\"P Comedy\",\"P RF\",\"P Thriller\",\"P Action\",\"P WC\",\"P CF\",\"P Horror\",\"P BW\",\"P Indie\")\n",
    "\n",
    "aa_model = LogisticRegressionModel.load(\"./part3_lr_models/action_adventure/\")\n",
    "\n",
    "\n",
    "pred_test_aa = aa_model.transform(test_csv_dataset)\n",
    "final_pred_test_aa = pred_test_aa.select(col('movie_id').alias('m_id'),col('prediction').alias('P AA'))\n",
    "test_df = (test_df_1.join(final_pred_test_aa,col(\"movie_id\") == col(\"m_id\"),\"leftouter\"))\n",
    "\n",
    "test_df_1 = test_df.select(\"movie_id\",\"P drama\",\"P Comedy\",\"P RF\",\"P Thriller\",\"P Action\",\"P WC\",\"P CF\",\"P Horror\",\"P BW\",\"P Indie\",\"P AA\")\n",
    "\n",
    "a_model = LogisticRegressionModel.load(\"./part3_lr_models/adventure/\")\n",
    "\n",
    "\n",
    "pred_test_adv = a_model.transform(test_csv_dataset)\n",
    "final_pred_test_adv = pred_test_adv.select(col('movie_id').alias('m_id'),col('prediction').alias('P Adv'))\n",
    "test_df = (test_df_1.join(final_pred_test_adv,col(\"movie_id\") == col(\"m_id\"),\"leftouter\"))\n",
    "\n",
    "test_df_1 = test_df.select(\"movie_id\",\"P drama\",\"P Comedy\",\"P RF\",\"P Thriller\",\"P Action\",\"P WC\",\"P CF\",\"P Horror\",\"P BW\",\"P Indie\",\"P AA\",\"P Adv\")\n",
    "\n",
    "ff_model = LogisticRegressionModel.load(\"./part3_lr_models/family/\")\n",
    "\n",
    "\n",
    "pred_test_ff = ff_model.transform(test_csv_dataset)\n",
    "final_pred_test_ff = pred_test_ff.select(col('movie_id').alias('m_id'),col('prediction').alias('P FF'))\n",
    "test_df = (test_df_1.join(final_pred_test_ff,col(\"movie_id\") == col(\"m_id\"),\"leftouter\"))\n",
    "\n",
    "test_df_1 = test_df.select(\"movie_id\",\"P drama\",\"P Comedy\",\"P RF\",\"P Thriller\",\"P Action\",\"P WC\",\"P CF\",\"P Horror\",\"P BW\",\"P Indie\",\"P AA\",\"P Adv\",\"P FF\")\n",
    "\n",
    "sf_model = LogisticRegressionModel.load(\"./part3_lr_models/short_film/\")\n",
    "\n",
    "\n",
    "pred_test_sf = sf_model.transform(test_csv_dataset)\n",
    "final_pred_test_sf = pred_test_sf.select(col('movie_id').alias('m_id'),col('prediction').alias('P SF'))\n",
    "test_df = (test_df_1.join(final_pred_test_sf,col(\"movie_id\") == col(\"m_id\"),\"leftouter\"))\n",
    "\n",
    "test_df_1 = test_df.select(\"movie_id\",\"P drama\",\"P Comedy\",\"P RF\",\"P Thriller\",\"P Action\",\"P WC\",\"P CF\",\"P Horror\",\"P BW\",\"P Indie\",\"P AA\",\"P Adv\",\"P FF\",\"P SF\")\n",
    "\n",
    "\n",
    "rd_model = LogisticRegressionModel.load(\"./part3_lr_models/rom_drama/\")\n",
    "\n",
    "pred_test_rd = rd_model.transform(test_csv_dataset)\n",
    "final_pred_test_rd = pred_test_rd.select(col('movie_id').alias('m_id'),col('prediction').alias('P RD'))\n",
    "test_df = (test_df_1.join(final_pred_test_rd,col(\"movie_id\") == col(\"m_id\"),\"leftouter\"))\n",
    "\n",
    "test_df_1 = test_df.select(\"movie_id\",\"P drama\",\"P Comedy\",\"P RF\",\"P Thriller\",\"P Action\",\"P WC\",\"P CF\",\"P Horror\",\"P BW\",\"P Indie\",\"P AA\",\"P Adv\",\"P FF\",\"P SF\", \"P RD\")\n",
    "\n",
    "\n",
    "ani_model = LogisticRegressionModel.load(\"./part3_lr_models/animation/\")\n",
    "\n",
    "pred_test_ani = ani_model.transform(test_csv_dataset)\n",
    "final_pred_test_ani = pred_test_ani.select(col('movie_id').alias('m_id'),col('prediction').alias('P Ani'))\n",
    "test_df = (test_df_1.join(final_pred_test_ani,col(\"movie_id\") == col(\"m_id\"),\"leftouter\"))\n",
    "\n",
    "test_df_1 = test_df.select(\"movie_id\",\"P drama\",\"P Comedy\",\"P RF\",\"P Thriller\",\"P Action\",\"P WC\",\"P CF\",\"P Horror\",\"P BW\",\"P Indie\",\"P AA\",\"P Adv\",\"P FF\",\"P SF\", \"P RD\", \"P Ani\")\n",
    "\n",
    "\n",
    "mus_model = LogisticRegressionModel.load(\"./part3_lr_models/musical/\")\n",
    "\n",
    "pred_test_mus = mus_model.transform(test_csv_dataset)\n",
    "final_pred_test_mus = pred_test_mus.select(col('movie_id').alias('m_id'),col('prediction').alias('P Mus'))\n",
    "test_df = (test_df_1.join(final_pred_test_mus,col(\"movie_id\") == col(\"m_id\"),\"leftouter\"))\n",
    "\n",
    "test_df_1 = test_df.select(\"movie_id\",\"P drama\",\"P Comedy\",\"P RF\",\"P Thriller\",\"P Action\",\"P WC\",\"P CF\",\"P Horror\",\"P BW\",\"P Indie\",\"P AA\",\"P Adv\",\"P FF\",\"P SF\", \"P RD\", \"P Ani\", \"P Mus\")\n",
    "\n",
    "\n",
    "scf_model = LogisticRegressionModel.load(\"./part3_lr_models/science_fiction/\")\n",
    "\n",
    "pred_test_scf = scf_model.transform(test_csv_dataset)\n",
    "final_pred_test_scf = pred_test_scf.select(col('movie_id').alias('m_id'),col('prediction').alias('P SciFi'))\n",
    "test_df = (test_df_1.join(final_pred_test_scf,col(\"movie_id\") == col(\"m_id\"),\"leftouter\"))\n",
    "\n",
    "test_df_1 = test_df.select(\"movie_id\",\"P drama\",\"P Comedy\",\"P RF\",\"P Thriller\",\"P Action\",\"P WC\",\"P CF\",\"P Horror\",\"P BW\",\"P Indie\",\"P AA\",\"P Adv\",\"P FF\",\"P SF\", \"P RD\", \"P Ani\", \"P Mus\", \"P SciFi\")\n",
    "\n",
    "\n",
    "m_model = LogisticRegressionModel.load(\"./part3_lr_models/mystery/\")\n",
    "\n",
    "pred_test_mys = m_model.transform(test_csv_dataset)\n",
    "final_pred_test_mys = pred_test_mys.select(col('movie_id').alias('m_id'),col('prediction').alias('P Mys'))\n",
    "test_df = (test_df_1.join(final_pred_test_mys,col(\"movie_id\") == col(\"m_id\"),\"leftouter\"))\n",
    "\n",
    "test_df_1 = test_df.select(\"movie_id\",\"P drama\",\"P Comedy\",\"P RF\",\"P Thriller\",\"P Action\",\"P WC\",\"P CF\",\"P Horror\",\"P BW\",\"P Indie\",\"P AA\",\"P Adv\",\"P FF\",\"P SF\", \"P RD\", \"P Ani\", \"P Mus\", \"P SciFi\", \"P Mys\")\n",
    "\n",
    "\n",
    "rc_model = LogisticRegressionModel.load(\"./part3_lr_models/rom_com/\")\n",
    "\n",
    "pred_test_rc = rc_model.transform(test_csv_dataset)\n",
    "final_pred_test_rc = pred_test_rc.select(col('movie_id').alias('m_id'),col('prediction').alias('P RC'))\n",
    "test_df = (test_df_1.join(final_pred_test_rc,col(\"movie_id\") == col(\"m_id\"),\"leftouter\"))\n",
    "\n",
    "test_df_1 = test_df.select(\"movie_id\",\"P drama\",\"P Comedy\",\"P RF\",\"P Thriller\",\"P Action\",\"P WC\",\"P CF\",\"P Horror\",\"P BW\",\"P Indie\",\"P AA\",\"P Adv\",\"P FF\",\"P SF\", \"P RD\", \"P Ani\", \"P Mus\", \"P SciFi\", \"P Mys\", \"P RC\")"
   ]
  },
  {
   "cell_type": "code",
   "execution_count": 49,
   "metadata": {},
   "outputs": [
    {
     "name": "stdout",
     "output_type": "stream",
     "text": [
      "+--------+-------+--------+----+----------+--------+----+----+--------+----+-------+----+-----+----+----+----+-----+-----+-------+-----+----+\n",
      "|movie_id|P drama|P Comedy|P RF|P Thriller|P Action|P WC|P CF|P Horror|P BW|P Indie|P AA|P Adv|P FF|P SF|P RD|P Ani|P Mus|P SciFi|P Mys|P RC|\n",
      "+--------+-------+--------+----+----------+--------+----+----+--------+----+-------+----+-----+----+----+----+-----+-----+-------+-----+----+\n",
      "|12378414|    0.0|     1.0| 1.0|       0.0|     0.0| 0.0| 0.0|     0.0| 0.0|    0.0| 0.0|  0.0| 0.0| 0.0| 0.0|  0.0|  0.0|    0.0|  0.0| 1.0|\n",
      "|13005847|    0.0|     0.0| 1.0|       1.0|     0.0| 0.0| 1.0|     0.0| 0.0|    0.0| 0.0|  0.0| 0.0| 0.0| 0.0|  0.0|  0.0|    0.0|  0.0| 0.0|\n",
      "|13873910|    0.0|     0.0| 1.0|       0.0|     1.0| 0.0| 0.0|     0.0| 0.0|    0.0| 0.0|  0.0| 0.0| 0.0| 0.0|  0.0|  0.0|    0.0|  0.0| 0.0|\n",
      "|13897336|    1.0|     0.0| 0.0|       1.0|     0.0| 1.0| 0.0|     0.0| 0.0|    0.0| 1.0|  1.0| 0.0| 0.0| 0.0|  0.0|  0.0|    0.0|  0.0| 0.0|\n",
      "|14355683|    1.0|     0.0| 1.0|       0.0|     0.0| 0.0| 0.0|     0.0| 0.0|    0.0| 0.0|  0.0| 0.0| 0.0| 0.0|  0.0|  0.0|    0.0|  0.0| 0.0|\n",
      "+--------+-------+--------+----+----------+--------+----+----+--------+----+-------+----+-----+----+----+----+-----+-----+-------+-----+----+\n",
      "only showing top 5 rows\n",
      "\n"
     ]
    }
   ],
   "source": [
    "test_df_1.show(5)"
   ]
  },
  {
   "cell_type": "code",
   "execution_count": 50,
   "metadata": {},
   "outputs": [
    {
     "name": "stdout",
     "output_type": "stream",
     "text": [
      "+--------+-------+--------+----+----------+--------+----+----+--------+----+-------+----+-----+----+----+----+-----+-----+-------+-----+----+\n",
      "|movie_id|P drama|P Comedy|P RF|P Thriller|P Action|P WC|P CF|P Horror|P BW|P Indie|P AA|P Adv|P FF|P SF|P RD|P Ani|P Mus|P SciFi|P Mys|P RC|\n",
      "+--------+-------+--------+----+----------+--------+----+----+--------+----+-------+----+-----+----+----+----+-----+-----+-------+-----+----+\n",
      "|12378414|      0|       1|   1|         0|       0|   0|   0|       0|   0|      0|   0|    0|   0|   0|   0|    0|    0|      0|    0|   1|\n",
      "|13005847|      0|       0|   1|         1|       0|   0|   1|       0|   0|      0|   0|    0|   0|   0|   0|    0|    0|      0|    0|   0|\n",
      "+--------+-------+--------+----+----------+--------+----+----+--------+----+-------+----+-----+----+----+----+-----+-----+-------+-----+----+\n",
      "only showing top 2 rows\n",
      "\n"
     ]
    }
   ],
   "source": [
    "test_res_df = test_df_1.select([col(c).cast(IntegerType()).cast(\"string\") for c in test_df_1.columns])\n",
    "test_res_df.show(2)"
   ]
  },
  {
   "cell_type": "code",
   "execution_count": 51,
   "metadata": {},
   "outputs": [],
   "source": [
    "test_2 = test_res_df.select(\"movie_id\",concat_ws(' ', \"P drama\",\"P Comedy\",\"P RF\",\"P Thriller\",\"P Action\",\"P WC\",\"P CF\",\"P Horror\",\"P BW\",\"P Indie\",\"P AA\",\"P Adv\",\"P FF\",\"P SF\",\"P RD\",\"P Ani\",\"P Mus\",\"P SciFi\",\"P Mys\",\"P RC\").alias('predictions'))"
   ]
  },
  {
   "cell_type": "code",
   "execution_count": 52,
   "metadata": {},
   "outputs": [
    {
     "name": "stdout",
     "output_type": "stream",
     "text": [
      "+--------+--------------------+\n",
      "|movie_id|         predictions|\n",
      "+--------+--------------------+\n",
      "|12378414|0 1 1 0 0 0 0 0 0...|\n",
      "|13005847|0 0 1 1 0 0 1 0 0...|\n",
      "+--------+--------------------+\n",
      "only showing top 2 rows\n",
      "\n"
     ]
    }
   ],
   "source": [
    "test_df_try = test_2.select(col(\"movie_id\").cast(IntegerType()),col(\"predictions\"))\n",
    "test_df_try.show(2)"
   ]
  },
  {
   "cell_type": "code",
   "execution_count": null,
   "metadata": {},
   "outputs": [],
   "source": [
    "test_df_try.repartition(1).write.csv(\"./submission/part3.csv\",header=True)"
   ]
  },
  {
   "cell_type": "code",
   "execution_count": null,
   "metadata": {},
   "outputs": [],
   "source": []
  }
 ],
 "metadata": {
  "kernelspec": {
   "display_name": "Python 3",
   "language": "python",
   "name": "python3"
  },
  "language_info": {
   "codemirror_mode": {
    "name": "ipython",
    "version": 3
   },
   "file_extension": ".py",
   "mimetype": "text/x-python",
   "name": "python",
   "nbconvert_exporter": "python",
   "pygments_lexer": "ipython3",
   "version": "3.6.7"
  },
  "latex_envs": {
   "LaTeX_envs_menu_present": true,
   "autoclose": true,
   "autocomplete": true,
   "bibliofile": "biblio.bib",
   "cite_by": "apalike",
   "current_citInitial": 1,
   "eqLabelWithNumbers": true,
   "eqNumInitial": 1,
   "hotkeys": {
    "equation": "Ctrl-E",
    "itemize": "Ctrl-I"
   },
   "labels_anchors": false,
   "latex_user_defs": false,
   "report_style_numbering": false,
   "user_envs_cfg": false
  }
 },
 "nbformat": 4,
 "nbformat_minor": 2
}
